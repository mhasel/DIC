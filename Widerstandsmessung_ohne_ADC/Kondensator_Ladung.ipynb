{
 "cells": [
  {
   "cell_type": "code",
   "execution_count": 13,
   "metadata": {},
   "outputs": [
    {
     "data": {
      "image/png": "[encoded data removed]",
      "text/plain": [
       "<Figure size 432x288 with 1 Axes>"
      ]
     },
     "metadata": {
      "needs_background": "light"
     },
     "output_type": "display_data"
    }
   ],
   "source": [
    "import matplotlib.pyplot as plt\n",
    "import numpy as np\n",
    "\n",
    "def Uc_calc(Uq, t, R, C):\n",
    "    return Uq * (1 - np.exp(- t / (R * C)))\n",
    "\n",
    "Uq = 5\n",
    "R = 100\n",
    "C = 10e-6\n",
    "Q = 0\n",
    "dt = 0.01\n",
    "t_start = 0\n",
    "Uc_start = Uc_calc(Uq, t_start, R, C)\n",
    "\n",
    "\n",
    "t = []\n",
    "Uc = []\n",
    "Uct = []\n",
    "\n",
    "#initial values\n",
    "t.append(t_start)\n",
    "Uc.append(Q/C)\n",
    "Uct.append(Uc_start)\n",
    "\n",
    "\n",
    "while (Uc[-1] < 0.99 * Uq):\n",
    "    dQ = dt * (Uq - Q/C) / R\n",
    "    Q = Q + dQ\n",
    "    t.append(t[-1] + dt)\n",
    "    Uc.append(Q/C)\n",
    "    Uct.append(Uc_calc(Uq,t[-1], R, C))\n",
    "\n",
    "\n",
    "plt.plot(t, Uc)\n",
    "plt.plot(t, Uct, 'g')\n",
    "plt.xlabel(\"time\")\n",
    "plt.ylabel(\"voltage\")\n",
    "plt.show()"
   ]
  },
  {
   "cell_type": "code",
   "execution_count": null,
   "metadata": {},
   "outputs": [],
   "source": []
  }
 ],
 "metadata": {
  "interpreter": {
   "hash": "d7b7fce990fd5a949e35a7f71ac36044d6cfae9413c29269e55a17ef4db45994"
  },
  "kernelspec": {
   "display_name": "Python 3.8.8 64-bit ('base': conda)",
   "language": "python",
   "name": "python3"
  },
  "language_info": {
   "codemirror_mode": {
    "name": "ipython",
    "version": 3
   },
   "file_extension": ".py",
   "mimetype": "text/x-python",
   "name": "python",
   "nbconvert_exporter": "python",
   "pygments_lexer": "ipython3",
   "version": "3.8.3"
  },
  "orig_nbformat": 4
 },
 "nbformat": 4,
 "nbformat_minor": 2
}
